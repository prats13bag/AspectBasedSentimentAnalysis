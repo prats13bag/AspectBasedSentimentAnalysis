{
 "cells": [
  {
   "cell_type": "markdown",
   "metadata": {},
   "source": [
    "# Aspect Based Sentiment Analysis\n",
    "\n",
    "#### Author: Pratyush Bagaria (pbagar2@uic.edu, pratyush_bagaria@hotmail.com)"
   ]
  },
  {
   "cell_type": "code",
   "execution_count": 1,
   "metadata": {},
   "outputs": [],
   "source": [
    "import numpy as np\n",
    "import pandas as pd\n",
    "import re\n",
    "import nltk\n",
    "from nltk.corpus import stopwords\n",
    "from nltk.stem.wordnet import WordNetLemmatizer\n",
    "import matplotlib.pyplot as plt\n",
    "from sklearn.feature_extraction.text import CountVectorizer\n",
    "from sklearn.model_selection import train_test_split\n",
    "from sklearn import tree\n",
    "from sklearn.svm import SVC\n",
    "from sklearn.naive_bayes import MultinomialNB\n",
    "from sklearn.ensemble import RandomForestClassifier\n",
    "from sklearn.neural_network import MLPClassifier\n",
    "from sklearn.metrics import accuracy_score,classification_report\n",
    "from sklearn.model_selection import cross_val_predict"
   ]
  },
  {
   "cell_type": "markdown",
   "metadata": {},
   "source": [
    "#### A. Reading Data Files (both train and test)"
   ]
  },
  {
   "cell_type": "code",
   "execution_count": 2,
   "metadata": {},
   "outputs": [
    {
     "data": {
      "text/html": [
       "<div>\n",
       "<table border=\"1\" class=\"dataframe\">\n",
       "  <thead>\n",
       "    <tr style=\"text-align: right;\">\n",
       "      <th></th>\n",
       "      <th>example_id</th>\n",
       "      <th>text</th>\n",
       "      <th>aspect_term</th>\n",
       "      <th>term_location</th>\n",
       "      <th>class</th>\n",
       "    </tr>\n",
       "  </thead>\n",
       "  <tbody>\n",
       "    <tr>\n",
       "      <th>0</th>\n",
       "      <td>2333_1</td>\n",
       "      <td>Obviously one of the most important features o...</td>\n",
       "      <td>human interface</td>\n",
       "      <td>69--84</td>\n",
       "      <td>0</td>\n",
       "    </tr>\n",
       "    <tr>\n",
       "      <th>1</th>\n",
       "      <td>1805_1</td>\n",
       "      <td>Good for every day computing and web browsing.</td>\n",
       "      <td>every day computing</td>\n",
       "      <td>9--28</td>\n",
       "      <td>1</td>\n",
       "    </tr>\n",
       "    <tr>\n",
       "      <th>2</th>\n",
       "      <td>2782_2</td>\n",
       "      <td>while the keyboard itself is alright[comma] th...</td>\n",
       "      <td>mouse command buttons</td>\n",
       "      <td>115--136</td>\n",
       "      <td>-1</td>\n",
       "    </tr>\n",
       "    <tr>\n",
       "      <th>3</th>\n",
       "      <td>1385_0</td>\n",
       "      <td>Again[comma] the same problem[comma] the right...</td>\n",
       "      <td>right speaker</td>\n",
       "      <td>29--42</td>\n",
       "      <td>-1</td>\n",
       "    </tr>\n",
       "    <tr>\n",
       "      <th>4</th>\n",
       "      <td>1423_0</td>\n",
       "      <td>My problem was with DELL Customer Service.</td>\n",
       "      <td>DELL Customer Service</td>\n",
       "      <td>20--41</td>\n",
       "      <td>-1</td>\n",
       "    </tr>\n",
       "  </tbody>\n",
       "</table>\n",
       "</div>"
      ],
      "text/plain": [
       "  example_id                                               text  \\\n",
       "0     2333_1  Obviously one of the most important features o...   \n",
       "1     1805_1     Good for every day computing and web browsing.   \n",
       "2     2782_2  while the keyboard itself is alright[comma] th...   \n",
       "3     1385_0  Again[comma] the same problem[comma] the right...   \n",
       "4     1423_0         My problem was with DELL Customer Service.   \n",
       "\n",
       "             aspect_term term_location  class  \n",
       "0        human interface        69--84      0  \n",
       "1    every day computing         9--28      1  \n",
       "2  mouse command buttons      115--136     -1  \n",
       "3          right speaker        29--42     -1  \n",
       "4  DELL Customer Service        20--41     -1  "
      ]
     },
     "execution_count": 2,
     "metadata": {},
     "output_type": "execute_result"
    }
   ],
   "source": [
    "datafile_train = pd.read_csv(\"data_train.csv\")\n",
    "text_train = datafile_train.text\n",
    "aspect_terms_train = datafile_train.aspect_term\n",
    "labels_train = datafile_train['class']\n",
    "datafile_train.head()"
   ]
  },
  {
   "cell_type": "code",
   "execution_count": 3,
   "metadata": {},
   "outputs": [
    {
     "data": {
      "text/html": [
       "<div>\n",
       "<table border=\"1\" class=\"dataframe\">\n",
       "  <thead>\n",
       "    <tr style=\"text-align: right;\">\n",
       "      <th></th>\n",
       "      <th>example_id</th>\n",
       "      <th>text</th>\n",
       "      <th>aspect_term</th>\n",
       "      <th>term_location</th>\n",
       "    </tr>\n",
       "  </thead>\n",
       "  <tbody>\n",
       "    <tr>\n",
       "      <th>0</th>\n",
       "      <td>494:1_0</td>\n",
       "      <td>Buy the separate RAM memory and you will have ...</td>\n",
       "      <td>RAM memory</td>\n",
       "      <td>17--27</td>\n",
       "    </tr>\n",
       "    <tr>\n",
       "      <th>1</th>\n",
       "      <td>311:18_1</td>\n",
       "      <td>But with this laptop[comma] the bass is very w...</td>\n",
       "      <td>sound</td>\n",
       "      <td>52--57</td>\n",
       "    </tr>\n",
       "    <tr>\n",
       "      <th>2</th>\n",
       "      <td>256:1_0</td>\n",
       "      <td>This hardware seems to be better than the iMac...</td>\n",
       "      <td>hardware</td>\n",
       "      <td>5--13</td>\n",
       "    </tr>\n",
       "    <tr>\n",
       "      <th>3</th>\n",
       "      <td>748:1_0</td>\n",
       "      <td>It is very easy to navigate even for a novice.</td>\n",
       "      <td>navigate</td>\n",
       "      <td>19--27</td>\n",
       "    </tr>\n",
       "    <tr>\n",
       "      <th>4</th>\n",
       "      <td>128:1_0</td>\n",
       "      <td>Amazing Performance for anything I throw at it.</td>\n",
       "      <td>Performance</td>\n",
       "      <td>8--19</td>\n",
       "    </tr>\n",
       "  </tbody>\n",
       "</table>\n",
       "</div>"
      ],
      "text/plain": [
       "  example_id                                               text  aspect_term  \\\n",
       "0    494:1_0  Buy the separate RAM memory and you will have ...   RAM memory   \n",
       "1   311:18_1  But with this laptop[comma] the bass is very w...        sound   \n",
       "2    256:1_0  This hardware seems to be better than the iMac...     hardware   \n",
       "3    748:1_0     It is very easy to navigate even for a novice.     navigate   \n",
       "4    128:1_0    Amazing Performance for anything I throw at it.  Performance   \n",
       "\n",
       "  term_location  \n",
       "0        17--27  \n",
       "1        52--57  \n",
       "2         5--13  \n",
       "3        19--27  \n",
       "4         8--19  "
      ]
     },
     "execution_count": 3,
     "metadata": {},
     "output_type": "execute_result"
    }
   ],
   "source": [
    "datafile_test = pd.read_csv(\"data_test.csv\")\n",
    "text_test = datafile_test.text\n",
    "aspect_terms_test = datafile_test.aspect_term\n",
    "term_location_test = datafile_test.term_location\n",
    "datafile_test.head()"
   ]
  },
  {
   "cell_type": "markdown",
   "metadata": {},
   "source": [
    "#### B. Preprocessing Data and Feature Extraction"
   ]
  },
  {
   "cell_type": "code",
   "execution_count": 4,
   "metadata": {},
   "outputs": [],
   "source": [
    "bigram_vectorizer = CountVectorizer(ngram_range=(1,2), analyzer = 'word')\n",
    "en_stopwords = stopwords.words('english')\n",
    "tokenizer = nltk.tokenize.RegexpTokenizer(r'\\w+')\n",
    "window_size = 5"
   ]
  },
  {
   "cell_type": "code",
   "execution_count": 5,
   "metadata": {},
   "outputs": [],
   "source": [
    "def preprocessData(text,aspect_terms):\n",
    "    cleaned_text = []\n",
    "    def cleanText(t):\n",
    "        for i in range(len(t)):\n",
    "            sentence = t[i]\n",
    "            sentence = sentence.replace(\"[comma]\", \",\")\n",
    "            sentence = ' '.join(sentence.split())\n",
    "            sentence = re.sub('[^a-zA-Z0-9 \\n\\.]', '', sentence)\n",
    "            sentence = sentence.lower()\n",
    "            sentence = str([word for word in sentence.split() if word not in en_stopwords])\n",
    "            sentence = tokenizer.tokenize(sentence)\n",
    "            cleaned_text.append(sentence)\n",
    "        return cleaned_text\n",
    "    cleaned_text = cleanText(text)\n",
    "    cleaned_text = [\" \".join(t) for t in cleaned_text]\n",
    "    \n",
    "    final_text = []\n",
    "    for t, aspect_term in zip(cleaned_text,aspect_terms):\n",
    "        #print (\"here\")\n",
    "        #print (t, \"APPPPP\", aspect_term)\n",
    "        firstIndex,lastIndex=0,0\n",
    "        temp_text=[]\n",
    "        t = t.replace(' '.join(aspect_term.split()).lower(),\"***\")\n",
    "        t = t.split()\n",
    "        if \" \".join(t).count(\"***\")==0:\n",
    "            for k in range(0,len(t)):\n",
    "                temp_text.append(t[k])\n",
    "        elif \" \".join(t).count(\"***\")==1:\n",
    "            for index, word in enumerate(t):\n",
    "                    if word == \"***\":\n",
    "                        start = index - window_size if index>=window_size else 0\n",
    "                        stop = index + window_size + 1 if index + window_size + 1<=len(t) else len(t)\n",
    "                        for k in range(start,stop):\n",
    "                            temp_text.append(t[k])\n",
    "        elif \" \".join(t).count(\"***\")>1:\n",
    "            start = t.index(\"***\") - window_size if t.index(\"***\")>=window_size else 0\n",
    "            stop = len(t)-1-t[::-1].index(\"***\")+window_size+1 if len(t)-1-t[::-1].index(\"***\")+window_size+1<=len(t) else len(t)\n",
    "            for k in range(start,stop):\n",
    "                temp_text.append(t[k])\n",
    "\n",
    "        temp_text = \" \".join(temp_text)\n",
    "        temp_text = temp_text.replace(\"***\",' '.join(aspect_term.split()).lower())\n",
    "        final_text.append(temp_text)\n",
    "    return (final_text)"
   ]
  },
  {
   "cell_type": "code",
   "execution_count": 6,
   "metadata": {},
   "outputs": [],
   "source": [
    "X_train = preprocessData(text_train,aspect_terms_train)\n",
    "X_train = bigram_vectorizer.fit_transform(X_train)"
   ]
  },
  {
   "cell_type": "code",
   "execution_count": 7,
   "metadata": {},
   "outputs": [],
   "source": [
    "X_test = preprocessData(text_test,aspect_terms_test)\n",
    "X_test = bigram_vectorizer.transform(X_test)"
   ]
  },
  {
   "cell_type": "markdown",
   "metadata": {},
   "source": [
    "#### C. Training"
   ]
  },
  {
   "cell_type": "code",
   "execution_count": 8,
   "metadata": {},
   "outputs": [
    {
     "name": "stdout",
     "output_type": "stream",
     "text": [
      "***********************************************************\n",
      "Training for Linear SVM\n",
      "              precision    recall  f1-score   support\n",
      "\n",
      "          -1       0.64      0.74      0.69       635\n",
      "           0       0.51      0.41      0.45       322\n",
      "           1       0.77      0.73      0.75       695\n",
      "\n",
      "   micro avg       0.67      0.67      0.67      1652\n",
      "   macro avg       0.64      0.63      0.63      1652\n",
      "weighted avg       0.67      0.67      0.67      1652\n",
      "\n",
      "Overall accuracy for Linear SVM is : 0.67\n",
      "***********************************************************\n",
      "***********************************************************\n",
      "Training for Multinomial Naive Bayes\n",
      "              precision    recall  f1-score   support\n",
      "\n",
      "          -1       0.70      0.79      0.74       635\n",
      "           0       0.55      0.47      0.51       322\n",
      "           1       0.80      0.76      0.78       695\n",
      "\n",
      "   micro avg       0.72      0.72      0.72      1652\n",
      "   macro avg       0.68      0.67      0.68      1652\n",
      "weighted avg       0.71      0.72      0.71      1652\n",
      "\n",
      "Overall accuracy for Multinomial Naive Bayes is : 0.72\n",
      "***********************************************************\n",
      "***********************************************************\n",
      "Training for Decision Tree\n",
      "              precision    recall  f1-score   support\n",
      "\n",
      "          -1       0.75      0.60      0.67       635\n",
      "           0       0.39      0.64      0.49       322\n",
      "           1       0.82      0.73      0.77       695\n",
      "\n",
      "   micro avg       0.66      0.66      0.66      1652\n",
      "   macro avg       0.65      0.66      0.64      1652\n",
      "weighted avg       0.71      0.66      0.68      1652\n",
      "\n",
      "Overall accuracy for Decision Tree is : 0.66\n",
      "***********************************************************\n",
      "***********************************************************\n",
      "Training for Random Forest\n",
      "              precision    recall  f1-score   support\n",
      "\n",
      "          -1       0.64      0.79      0.71       635\n",
      "           0       0.56      0.38      0.45       322\n",
      "           1       0.79      0.73      0.76       695\n",
      "\n",
      "   micro avg       0.69      0.69      0.69      1652\n",
      "   macro avg       0.66      0.63      0.64      1652\n",
      "weighted avg       0.69      0.69      0.68      1652\n",
      "\n",
      "Overall accuracy for Random Forest is : 0.69\n",
      "***********************************************************\n",
      "***********************************************************\n",
      "Training for Multi-Layer Perceptron Classifier\n",
      "              precision    recall  f1-score   support\n",
      "\n",
      "          -1       0.71      0.75      0.73       635\n",
      "           0       0.51      0.51      0.51       322\n",
      "           1       0.80      0.77      0.78       695\n",
      "\n",
      "   micro avg       0.71      0.71      0.71      1652\n",
      "   macro avg       0.67      0.67      0.67      1652\n",
      "weighted avg       0.71      0.71      0.71      1652\n",
      "\n",
      "Overall accuracy for Multi-Layer Perceptron Classifier is : 0.71\n",
      "***********************************************************\n",
      "Highest accuracy obtained is: 0.72\n",
      "Model corresponding to this accuracy is: Multinomial Naive Bayes\n"
     ]
    }
   ],
   "source": [
    "#X1 implies training samples (texts) obtained from X_train dataset\n",
    "#X2 implies test samples (texts) obtained from X_train dataset\n",
    "#Y1 implies training samples (labels) obtained from X_train dataset\n",
    "#Y2 implies test samples (labels) obtained from X_train dataset\n",
    "\n",
    "X1, X2, Y1, Y2 = train_test_split(X_train, labels_train, test_size=0.25)\n",
    "\n",
    "dt = tree.DecisionTreeClassifier()\n",
    "svc = SVC(kernel='linear')\n",
    "nb = MultinomialNB(fit_prior=False, alpha=0.25)\n",
    "rf = RandomForestClassifier(n_estimators=10)\n",
    "mlpc = MLPClassifier()\n",
    "classifiers = [dt, svc, nb, rf, mlpc]\n",
    "model = [\"Linear SVM\",\"Multinomial Naive Bayes\",\"Decision Tree\",\"Random Forest\",\"Multi-Layer Perceptron Classifier\"]\n",
    "model_accuracy = []\n",
    "i=0\n",
    "for classifier in classifiers:\n",
    "    print (\"***********************************************************\")\n",
    "    print(\"Training for \"+str(model[i]))\n",
    "    yPred = cross_val_predict(classifier, X1, list(Y1), cv=10)\n",
    "    print(classification_report(list(Y1), yPred))\n",
    "    model_accuracy.append(round(accuracy_score(list(Y1), yPred),2))\n",
    "    print(\"Overall accuracy for\", model[i], \"is :\", model_accuracy[i])\n",
    "    i+=1\n",
    "    classifier.fit(X1,Y1)\n",
    "    print (\"***********************************************************\")\n",
    "\n",
    "print (\"Highest accuracy obtained is:\", max(model_accuracy))\n",
    "print (\"Model corresponding to this accuracy is:\", model[model_accuracy.index(max(model_accuracy))])"
   ]
  },
  {
   "cell_type": "markdown",
   "metadata": {},
   "source": [
    "#### D. Predicting"
   ]
  },
  {
   "cell_type": "code",
   "execution_count": 9,
   "metadata": {},
   "outputs": [],
   "source": [
    "clf = classifiers[model_accuracy.index(max(model_accuracy))]\n",
    "clf.fit(X_train, labels_train)\n",
    "labels_predicted = clf.predict(X_test)"
   ]
  },
  {
   "cell_type": "markdown",
   "metadata": {},
   "source": [
    "#### E. Plot Graphs and Write Output files"
   ]
  },
  {
   "cell_type": "code",
   "execution_count": 38,
   "metadata": {},
   "outputs": [],
   "source": [
    "def writeOutputTextFile(labels_predicted):\n",
    "    outputfile = open('data_output.txt','a')\n",
    "    id = datafile_test.example_id\n",
    "    for i in range(len(datafile_test['example_id'])):\n",
    "        outputfile.write(str(id[i])+\";;\"+str(labels_predicted[i])+'\\n')\n",
    "    outputfile.close()"
   ]
  },
  {
   "cell_type": "code",
   "execution_count": 39,
   "metadata": {},
   "outputs": [],
   "source": [
    "def plotGraph(labels_predicted):\n",
    "    countList = [labels_predicted.tolist().count(1), labels_predicted.tolist().count(0), labels_predicted.tolist().count(-1)]\n",
    "    pos, neu, neg = plt.bar([1,0,-1],countList)\n",
    "    plt.xticks([-1,0,1],[labels_predicted.tolist().count(-1),labels_predicted.tolist().count(0),labels_predicted.tolist().count(1)])\n",
    "    pos.set_facecolor('green')\n",
    "    neu.set_facecolor('yellow')\n",
    "    neg.set_facecolor('red')\n",
    "    pos.set_label('Positive Class')\n",
    "    neu.set_label('Neutral Class')\n",
    "    neg.set_label('Negative Class')\n",
    "    plt.legend(bbox_to_anchor=(1,1), loc='best', title=\"Legends\\n\")\n",
    "    plt.ylabel(\"Count of Predicted Labels\")\n",
    "    plt.show()"
   ]
  },
  {
   "cell_type": "code",
   "execution_count": 41,
   "metadata": {},
   "outputs": [
    {
     "name": "stdout",
     "output_type": "stream",
     "text": [
      "Class labels for test datatest is predicted using Multinomial Naive Bayes\n"
     ]
    },
    {
     "data": {
      "image/png": "[encoded data removed]",
      "text/plain": [
       "<Figure size 432x288 with 1 Axes>"
      ]
     },
     "metadata": {},
     "output_type": "display_data"
    }
   ],
   "source": [
    "print (\"Class labels for test datatest is predicted using \" + model[model_accuracy.index(max(model_accuracy))])\n",
    "writeOutputTextFile(labels_predicted.tolist())\n",
    "plotGraph(labels_predicted)"
   ]
  }
 ],
 "metadata": {
  "kernelspec": {
   "display_name": "Python 3",
   "language": "python",
   "name": "python3"
  },
  "language_info": {
   "codemirror_mode": {
    "name": "ipython",
    "version": 3
   },
   "file_extension": ".py",
   "mimetype": "text/x-python",
   "name": "python",
   "nbconvert_exporter": "python",
   "pygments_lexer": "ipython3",
   "version": "3.6.5"
  }
 },
 "nbformat": 4,
 "nbformat_minor": 2
}
